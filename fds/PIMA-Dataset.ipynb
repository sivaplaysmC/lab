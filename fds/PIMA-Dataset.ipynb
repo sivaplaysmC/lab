{
 "cells": [
  {
   "cell_type": "code",
   "execution_count": 1,
   "id": "3894d59a-3adf-4e3e-b68e-0fe0f54a47ed",
   "metadata": {},
   "outputs": [],
   "source": [
    "import pandas as pd\n",
    "import matplotlib.pyplot as plt\n",
    "import numpy as np"
   ]
  },
  {
   "cell_type": "code",
   "execution_count": 17,
   "id": "7ef25921-bcd2-46ff-9cc2-4598a82ef515",
   "metadata": {},
   "outputs": [],
   "source": [
    "df = pd.read_csv(\"datasets/PIMA-Diabetes/diabetes.csv\")"
   ]
  },
  {
   "cell_type": "code",
   "execution_count": 18,
   "id": "feb54a7d-b520-4c3f-af8d-6cd97d8f5c14",
   "metadata": {},
   "outputs": [
    {
     "data": {
      "text/html": [
       "<div>\n",
       "<style scoped>\n",
       "    .dataframe tbody tr th:only-of-type {\n",
       "        vertical-align: middle;\n",
       "    }\n",
       "\n",
       "    .dataframe tbody tr th {\n",
       "        vertical-align: top;\n",
       "    }\n",
       "\n",
       "    .dataframe thead th {\n",
       "        text-align: right;\n",
       "    }\n",
       "</style>\n",
       "<table border=\"1\" class=\"dataframe\">\n",
       "  <thead>\n",
       "    <tr style=\"text-align: right;\">\n",
       "      <th></th>\n",
       "      <th>Pregnancies</th>\n",
       "      <th>Glucose</th>\n",
       "      <th>BloodPressure</th>\n",
       "      <th>SkinThickness</th>\n",
       "      <th>Insulin</th>\n",
       "      <th>BMI</th>\n",
       "      <th>DiabetesPedigreeFunction</th>\n",
       "      <th>Age</th>\n",
       "      <th>Outcome</th>\n",
       "    </tr>\n",
       "  </thead>\n",
       "  <tbody>\n",
       "    <tr>\n",
       "      <th>0</th>\n",
       "      <td>6</td>\n",
       "      <td>148</td>\n",
       "      <td>72</td>\n",
       "      <td>35</td>\n",
       "      <td>0</td>\n",
       "      <td>33.6</td>\n",
       "      <td>0.627</td>\n",
       "      <td>50</td>\n",
       "      <td>1</td>\n",
       "    </tr>\n",
       "    <tr>\n",
       "      <th>1</th>\n",
       "      <td>1</td>\n",
       "      <td>85</td>\n",
       "      <td>66</td>\n",
       "      <td>29</td>\n",
       "      <td>0</td>\n",
       "      <td>26.6</td>\n",
       "      <td>0.351</td>\n",
       "      <td>31</td>\n",
       "      <td>0</td>\n",
       "    </tr>\n",
       "    <tr>\n",
       "      <th>2</th>\n",
       "      <td>8</td>\n",
       "      <td>183</td>\n",
       "      <td>64</td>\n",
       "      <td>0</td>\n",
       "      <td>0</td>\n",
       "      <td>23.3</td>\n",
       "      <td>0.672</td>\n",
       "      <td>32</td>\n",
       "      <td>1</td>\n",
       "    </tr>\n",
       "    <tr>\n",
       "      <th>3</th>\n",
       "      <td>1</td>\n",
       "      <td>89</td>\n",
       "      <td>66</td>\n",
       "      <td>23</td>\n",
       "      <td>94</td>\n",
       "      <td>28.1</td>\n",
       "      <td>0.167</td>\n",
       "      <td>21</td>\n",
       "      <td>0</td>\n",
       "    </tr>\n",
       "    <tr>\n",
       "      <th>4</th>\n",
       "      <td>0</td>\n",
       "      <td>137</td>\n",
       "      <td>40</td>\n",
       "      <td>35</td>\n",
       "      <td>168</td>\n",
       "      <td>43.1</td>\n",
       "      <td>2.288</td>\n",
       "      <td>33</td>\n",
       "      <td>1</td>\n",
       "    </tr>\n",
       "  </tbody>\n",
       "</table>\n",
       "</div>"
      ],
      "text/plain": [
       "   Pregnancies  Glucose  BloodPressure  SkinThickness  Insulin   BMI  \\\n",
       "0            6      148             72             35        0  33.6   \n",
       "1            1       85             66             29        0  26.6   \n",
       "2            8      183             64              0        0  23.3   \n",
       "3            1       89             66             23       94  28.1   \n",
       "4            0      137             40             35      168  43.1   \n",
       "\n",
       "   DiabetesPedigreeFunction  Age  Outcome  \n",
       "0                     0.627   50        1  \n",
       "1                     0.351   31        0  \n",
       "2                     0.672   32        1  \n",
       "3                     0.167   21        0  \n",
       "4                     2.288   33        1  "
      ]
     },
     "execution_count": 18,
     "metadata": {},
     "output_type": "execute_result"
    }
   ],
   "source": [
    "df.head()"
   ]
  },
  {
   "cell_type": "markdown",
   "id": "b0a6924b-9095-4ad5-9b9a-b21da6f37071",
   "metadata": {},
   "source": [
    "## Loading data\n",
    "Load the dataset into a Pandas DataFrame and Print the dataset's shape (number of\n",
    "rows and columns) and data types for each column."
   ]
  },
  {
   "cell_type": "code",
   "execution_count": 19,
   "id": "8545c47f-cbd3-4464-bd9f-f54068b4fbba",
   "metadata": {},
   "outputs": [
    {
     "name": "stdout",
     "output_type": "stream",
     "text": [
      "Rows::\t768\tCols::\t9\n",
      "Columns::\tPregnancies\tGlucose\tBloodPressure\tSkinThickness\tInsulin\tBMI\tDiabetesPedigreeFunction\tAge\tOutcome\n"
     ]
    }
   ],
   "source": [
    "print(f\"Rows::\\t{df.shape[0]}\\tCols::\\t{df.shape[1]}\")\n",
    "print(\"Columns::\", *df.columns, sep='\\t')"
   ]
  },
  {
   "cell_type": "markdown",
   "id": "49b1e400-94dc-4d44-938d-293cf59c32b0",
   "metadata": {},
   "source": [
    "## Checking for missing values\n",
    "Check for missing values in the given dataset and list number of missing values per column"
   ]
  },
  {
   "cell_type": "code",
   "execution_count": 25,
   "id": "60825dc1-6a99-4081-a16d-89d6232bd9eb",
   "metadata": {},
   "outputs": [
    {
     "name": "stdout",
     "output_type": "stream",
     "text": [
      "column                  \t\tmissing data\n",
      "Pregnancies             \t\t111\n",
      "Glucose                 \t\t5\n",
      "BloodPressure           \t\t35\n",
      "SkinThickness           \t\t227\n",
      "Insulin                 \t\t374\n",
      "BMI                     \t\t11\n",
      "DiabetesPedigreeFunction\t\t0\n",
      "Age                     \t\t0\n",
      "Outcome                 \t\t500\n"
     ]
    }
   ],
   "source": [
    "print(f\"{'column':<24}\\t\\tmissing data\")\n",
    "\n",
    "for column in df.columns:\n",
    "    col = df[column]\n",
    "    missing = len(list(i for i in col if i == 0))\n",
    "    print(f\"{column:<24}\\t\\t{missing}\")"
   ]
  },
  {
   "cell_type": "markdown",
   "id": "c3670ec1-06a4-49f3-b7b4-a11b4b7cc5b0",
   "metadata": {},
   "source": [
    "## Identifying anomalies and outliers\n",
    "Identify any anomalous or outlier values, particularly in columns where zero values are not biologically plausible (e.g., glucose level, BMI)."
   ]
  },
  {
   "cell_type": "code",
   "execution_count": 37,
   "id": "96c311a4-32b7-42c4-8d35-65728e0054cf",
   "metadata": {},
   "outputs": [
    {
     "data": {
      "text/plain": [
       "{'whiskers': [<matplotlib.lines.Line2D at 0x7adcf091f080>,\n",
       "  <matplotlib.lines.Line2D at 0x7adcf091f320>],\n",
       " 'caps': [<matplotlib.lines.Line2D at 0x7adcf091f5f0>,\n",
       "  <matplotlib.lines.Line2D at 0x7adcf091f830>],\n",
       " 'boxes': [<matplotlib.lines.Line2D at 0x7adcf091ed50>],\n",
       " 'medians': [<matplotlib.lines.Line2D at 0x7adcf091fb00>],\n",
       " 'fliers': [<matplotlib.lines.Line2D at 0x7adcf091fda0>],\n",
       " 'means': []}"
      ]
     },
     "execution_count": 37,
     "metadata": {},
     "output_type": "execute_result"
    },
    {
     "data": {
      "image/png": "[encoded data removed]",
      "text/plain": [
       "<Figure size 640x480 with 1 Axes>"
      ]
     },
     "metadata": {},
     "output_type": "display_data"
    }
   ],
   "source": [
    "plt.boxplot(df[\"BMI\"])"
   ]
  },
  {
   "cell_type": "code",
   "execution_count": 27,
   "id": "45245ec3-7959-4bbd-a540-47e34db1be4f",
   "metadata": {},
   "outputs": [
    {
     "data": {
      "text/plain": [
       "[]"
      ]
     },
     "execution_count": 27,
     "metadata": {},
     "output_type": "execute_result"
    }
   ],
   "source": []
  }
 ],
 "metadata": {
  "kernelspec": {
   "display_name": "Python 3 (ipykernel)",
   "language": "python",
   "name": "python3"
  },
  "language_info": {
   "codemirror_mode": {
    "name": "ipython",
    "version": 3
   },
   "file_extension": ".py",
   "mimetype": "text/x-python",
   "name": "python",
   "nbconvert_exporter": "python",
   "pygments_lexer": "ipython3",
   "version": "3.12.4"
  }
 },
 "nbformat": 4,
 "nbformat_minor": 5
}
