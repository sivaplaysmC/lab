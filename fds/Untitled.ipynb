{
 "cells": [
  {
   "cell_type": "code",
   "execution_count": 1,
   "id": "4af62cc6",
   "metadata": {},
   "outputs": [],
   "source": [
    "import numpy as np"
   ]
  },
  {
   "cell_type": "code",
   "execution_count": 2,
   "id": "c9f4ec7c",
   "metadata": {},
   "outputs": [],
   "source": [
    "l = [\n",
    "    [1,2,3],\n",
    "    [4,5,6]\n",
    "] # shape: 3,2 <three columns, two rows>\n",
    "\n",
    "arr = np.array(l)"
   ]
  },
  {
   "cell_type": "code",
   "execution_count": 3,
   "id": "96ca2052",
   "metadata": {},
   "outputs": [
    {
     "name": "stdout",
     "output_type": "stream",
     "text": [
      "[1 2 3 4 5]\n",
      "(5,)\n"
     ]
    }
   ],
   "source": [
    "l = [1,2,3,4,5]\n",
    "a = np.array(l)\n",
    "\n",
    "print(a)\n",
    "\n",
    "print(a.shape)"
   ]
  },
  {
   "cell_type": "code",
   "execution_count": 4,
   "id": "5dd1af36",
   "metadata": {},
   "outputs": [
    {
     "name": "stdout",
     "output_type": "stream",
     "text": [
      "[[0 0 0 0]\n",
      " [0 0 0 0]\n",
      " [0 0 0 0]]\n",
      "(3, 4)\n"
     ]
    }
   ],
   "source": [
    "a = np.zeros((3,4), dtype=np.int8)\n",
    "\n",
    "print(a)\n",
    "print(a.shape)"
   ]
  },
  {
   "cell_type": "code",
   "execution_count": 5,
   "id": "2628ee04",
   "metadata": {},
   "outputs": [
    {
     "name": "stdout",
     "output_type": "stream",
     "text": [
      "[[10.2 10.2 10.2 10.2]\n",
      " [10.2 10.2 10.2 10.2]\n",
      " [10.2 10.2 10.2 10.2]]\n",
      "(3, 4)\n"
     ]
    }
   ],
   "source": [
    "a = np.full((3,4), 10.2)\n",
    "\n",
    "print(a)\n",
    "print(a.shape)"
   ]
  },
  {
   "cell_type": "code",
   "execution_count": 6,
   "id": "61fd5d38",
   "metadata": {},
   "outputs": [
    {
     "name": "stdout",
     "output_type": "stream",
     "text": [
      "[[0.02852156 0.03438487]\n",
      " [0.3467036  0.83873951]]\n"
     ]
    }
   ],
   "source": [
    "a = np.random.random((2,2))\n",
    "np.random.seed(2)\n",
    "print(a)"
   ]
  },
  {
   "cell_type": "code",
   "execution_count": 7,
   "id": "f78fd4c8",
   "metadata": {},
   "outputs": [
    {
     "name": "stdout",
     "output_type": "stream",
     "text": [
      "[ 0  5 10 15 20 25]\n"
     ]
    }
   ],
   "source": [
    "a = np.arange(0,30,5)\n",
    "\n",
    "print(a)\n"
   ]
  },
  {
   "cell_type": "code",
   "execution_count": 8,
   "id": "55781f19",
   "metadata": {},
   "outputs": [
    {
     "name": "stdout",
     "output_type": "stream",
     "text": [
      "[[1 2 3]\n",
      " [4 5 6]]\n",
      "(2, 3)\n",
      "[[1 2 3]\n",
      " [4 5 6]]\n",
      "(2, 3)\n"
     ]
    }
   ],
   "source": [
    "a = arr\n",
    "print(a)\n",
    "print(a.shape)\n",
    "a = a.reshape((2,3))\n",
    "print(a)\n",
    "print(a.shape)"
   ]
  },
  {
   "cell_type": "code",
   "execution_count": 9,
   "id": "46b19ec9",
   "metadata": {},
   "outputs": [
    {
     "name": "stdout",
     "output_type": "stream",
     "text": [
      "[[1 2 3]\n",
      " [4 5 6]] (2, 3)\n",
      "[1 2 3 4 5 6] (6,)\n"
     ]
    }
   ],
   "source": [
    "a = arr\n",
    "print(a, a.shape)\n",
    "a = a.flatten()\n",
    "print(a, a.shape)"
   ]
  },
  {
   "cell_type": "code",
   "execution_count": 10,
   "id": "d9b2d842",
   "metadata": {},
   "outputs": [
    {
     "name": "stdout",
     "output_type": "stream",
     "text": [
      "[[1. 2. 3.]\n",
      " [4. 5. 6.]]\n",
      "float16\n"
     ]
    }
   ],
   "source": [
    "a = arr\n",
    "new = a.astype(np.float16)\n",
    "print(new)\n",
    "print(new.dtype)\n",
    "\n"
   ]
  },
  {
   "cell_type": "code",
   "execution_count": 11,
   "id": "c1e828e9",
   "metadata": {},
   "outputs": [
    {
     "name": "stdout",
     "output_type": "stream",
     "text": [
      "[[1 4]\n",
      " [2 5]\n",
      " [3 6]]\n",
      "int64\n"
     ]
    }
   ],
   "source": [
    "a = arr\n",
    "print(a.T)\n",
    "print(a.T.dtype)\n",
    "\n"
   ]
  },
  {
   "cell_type": "code",
   "execution_count": 12,
   "id": "e67dc12b",
   "metadata": {},
   "outputs": [
    {
     "name": "stdout",
     "output_type": "stream",
     "text": [
      "[[1 2 3]]\n",
      "[[9 2 0]\n",
      " [2 0 1]]\n"
     ]
    }
   ],
   "source": [
    "a = np.array([\n",
    "    [1,2,3,4],\n",
    "    [5,2,4,2],\n",
    "    [5,9,2,0],\n",
    "    [1,2,0,1]\n",
    "])\n",
    "\n",
    "print(a[:1,:3])\n",
    "print(a[2:,1:])"
   ]
  }
 ],
 "metadata": {
  "kernelspec": {
   "display_name": "Python 3 (ipykernel)",
   "language": "python",
   "name": "python3"
  },
  "language_info": {
   "codemirror_mode": {
    "name": "ipython",
    "version": 3
   },
   "file_extension": ".py",
   "mimetype": "text/x-python",
   "name": "python",
   "nbconvert_exporter": "python",
   "pygments_lexer": "ipython3",
   "version": "3.12.4"
  }
 },
 "nbformat": 4,
 "nbformat_minor": 5
}
